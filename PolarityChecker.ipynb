{
  "cells": [
    {
      "cell_type": "code",
      "execution_count": 10,
      "metadata": {
        "id": "uM0LugVYk3GP"
      },
      "outputs": [],
      "source": [
        "import pandas as pd"
      ]
    },
    {
      "cell_type": "code",
      "execution_count": 14,
      "metadata": {
        "id": "Bk0B8iCBk3GR"
      },
      "outputs": [],
      "source": [
        "ds = pd.read_excel(\"../CountyFair.xlsx\")"
      ]
    },
    {
      "cell_type": "code",
      "execution_count": null,
      "metadata": {
        "id": "V13clms9k3GR",
        "outputId": "7e2271cf-6609-4ab0-b70d-d0166418b00a"
      },
      "outputs": [],
      "source": [
        "ds.info()"
      ]
    },
    {
      "cell_type": "code",
      "execution_count": null,
      "metadata": {
        "id": "P2fel6h6k3GS",
        "outputId": "d1b37eec-85e3-44a2-fe61-36fea368436f"
      },
      "outputs": [],
      "source": [
        "ds.info()"
      ]
    },
    {
      "cell_type": "code",
      "execution_count": 17,
      "metadata": {
        "id": "e_nIyqsSk3GS"
      },
      "outputs": [],
      "source": [
        "import spacy\n",
        "from spacytextblob.spacytextblob import SpacyTextBlob"
      ]
    },
    {
      "cell_type": "code",
      "execution_count": null,
      "metadata": {
        "id": "t65aohFKk3GX"
      },
      "outputs": [],
      "source": [
        "nlp = spacy.load('en_core_web_sm')\n",
        "nlp.add_pipe('spacytextblob')\n",
        "\n",
        "string_list = ds['Here I am in the year 2050, and I want to tell you why Arlington is so fantastic…'].tolist()\n",
        "spanish_list = ds['Translation (when applicable)'].tolist()\n",
        "IndexCounter = 0\n",
        "for n in spanish_list: # Gets non null values from the spanish translated list, if they're not null then it appends to the corresponding index of the main list.\n",
        "    workingstring = str(n)\n",
        "    if workingstring != 'nan':\n",
        "        string_list[IndexCounter] = workingstring\n",
        "    IndexCounter += 1"
      ]
    },
    {
      "cell_type": "code",
      "execution_count": null,
      "metadata": {},
      "outputs": [],
      "source": [
        "nlp = spacy.load('en_core_web_sm')\n",
        "nlp.add_pipe('spacytextblob')"
      ]
    },
    {
      "cell_type": "code",
      "execution_count": null,
      "metadata": {
        "id": "0cBCZ4Zdk3GX"
      },
      "outputs": [],
      "source": [
        "import seaborn as sns\n",
        "import pandas as pd\n",
        "import numpy as np\n",
        "import matplotlib.pyplot as plt\n",
        "pol_list = []\n",
        "sub_list = []\n",
        "for entry in string_list:\n",
        "    doc = nlp(entry)\n",
        "    pol_list.append(doc._.blob.polarity)\n",
        "    sub_list.append(doc._.blob.subjectivity)"
      ]
    },
    {
      "cell_type": "code",
      "execution_count": null,
      "metadata": {
        "id": "ZiLoW5ylk3GX",
        "outputId": "58c7c0a8-33c4-4dc1-bd6b-b0194651024e"
      },
      "outputs": [],
      "source": [
        "plt.figure(figsize=(10, 6))\n",
        "sns.histplot(data=sub_list)\n",
        "plt.title('Subjectivity of Postcard Responses from County Fair')\n",
        "plt.xlabel('In a range from 0 to 1')\n",
        "plt.ylabel('Frequency')\n",
        "plt.grid(True)\n",
        "plt.show()"
      ]
    },
    {
      "cell_type": "code",
      "execution_count": null,
      "metadata": {
        "id": "Vp7PuzW4k3GY",
        "outputId": "cd8d0e46-dedb-46d0-987f-1baf3f73bab2"
      },
      "outputs": [],
      "source": [
        "plt.figure(figsize=(10, 6))\n",
        "sns.histplot(data=pol_list)\n",
        "plt.title('Polarity of Postcard Responses from County Fair')\n",
        "plt.xlabel('In a range from -1 to 1')\n",
        "plt.ylabel('Frequency')\n",
        "plt.grid(True)\n",
        "plt.show()\n"
      ]
    }
  ],
  "metadata": {
    "colab": {
      "provenance": []
    },
    "kernelspec": {
      "display_name": "Python 3",
      "language": "python",
      "name": "python3"
    },
    "language_info": {
      "codemirror_mode": {
        "name": "ipython",
        "version": 3
      },
      "file_extension": ".py",
      "mimetype": "text/x-python",
      "name": "python",
      "nbconvert_exporter": "python",
      "pygments_lexer": "ipython3",
      "version": "3.11.4"
    }
  },
  "nbformat": 4,
  "nbformat_minor": 0
}
