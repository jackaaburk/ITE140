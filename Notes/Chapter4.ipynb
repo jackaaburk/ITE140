{
 "cells": [
  {
   "cell_type": "markdown",
   "metadata": {},
   "source": [
    "# NumPy and Python\n",
    "\n",
    "## Questions\n",
    "- The differences between a NumPy ndarray and nested lists in Python\n",
    "- How to construct an ndarray\n",
    "- NumPy's axis numbering system\n",
    "- How to access and modify values in an ndarray\n",
    "- Viewing vs Copying\n",
    "- NumPy operations - vectorization, broadcasting, and ufuncs\n",
    "\n",
    "## NumPy vs Python Arrays\n",
    "> Python can be used to make arrays:"
   ]
  },
  {
   "cell_type": "code",
   "execution_count": 1,
   "metadata": {},
   "outputs": [
    {
     "data": {
      "text/plain": [
       "[[2, 3, 4], [5, 6, 7], [8, 9, 10]]"
      ]
     },
     "execution_count": 1,
     "metadata": {},
     "output_type": "execute_result"
    }
   ],
   "source": [
    "In [1]: matrix = [[1, 2, 3],\n",
    "                  [4, 5, 6],\n",
    "                  [7, 8, 9]]\n",
    "In [2]: [[i + 1 for i in row] for row in matrix]"
   ]
  },
  {
   "cell_type": "markdown",
   "metadata": {},
   "source": [
    "> But using NumPy, it can be much easier to create larger arrays in different dimensions.\n",
    "> NumPy arrays are also quicker and more efficient than Python's.\n",
    "> Ex: Here is a NumPy 1D and 2D array (Each list in the arguments is a row, and each element inside a list is essentially a point):"
   ]
  },
  {
   "cell_type": "code",
   "execution_count": 6,
   "metadata": {},
   "outputs": [],
   "source": [
    "import numpy as np\n",
    "array1 = np.array([10, 100, 1000.])\n",
    "array2 = np.array([[1., 2., 3.],\n",
    "                   [4., 5., 6.]])"
   ]
  },
  {
   "cell_type": "markdown",
   "metadata": {},
   "source": [
    "> Note: NumPy's elements must be of all the same datatypes. If you use 'dtype' you can output the datatype."
   ]
  },
  {
   "cell_type": "code",
   "execution_count": 9,
   "metadata": {},
   "outputs": [
    {
     "data": {
      "text/plain": [
       "dtype('float64')"
      ]
     },
     "execution_count": 9,
     "metadata": {},
     "output_type": "execute_result"
    }
   ],
   "source": [
    "array2.dtype"
   ]
  },
  {
   "cell_type": "markdown",
   "metadata": {},
   "source": [
    "> With some Python functions, it doesn't allow you to use them on NumPy arrays, but there is a workaround, using NumPy Universal Functions. For example, using Python:"
   ]
  },
  {
   "cell_type": "code",
   "execution_count": null,
   "metadata": {},
   "outputs": [],
   "source": [
    "math.sqrt(array1)"
   ]
  },
  {
   "cell_type": "markdown",
   "metadata": {},
   "source": [
    "> Using Universal Functions:"
   ]
  },
  {
   "cell_type": "code",
   "execution_count": 11,
   "metadata": {},
   "outputs": [
    {
     "data": {
      "text/plain": [
       "array([ 3.16227766, 10.        , 31.6227766 ])"
      ]
     },
     "execution_count": 11,
     "metadata": {},
     "output_type": "execute_result"
    }
   ],
   "source": [
    "np.sqrt(array1)"
   ]
  },
  {
   "cell_type": "markdown",
   "metadata": {},
   "source": [
    "> NumPy's arrays have set axes. The rows/the y value are axis 0, and the columns/the x value are axis 1. \n",
    "> In addition to the axes, rows and columns are labeled starting at 0, just like the first element in a list of Python.\n",
    "\n",
    "## Important Functions and Working with Arrays\n",
    "\n",
    "> 'ones' creates an array of 1s\n",
    "> 'zeros' creates an array of 0s\n",
    "> 'eye' creates an identity matrix, which is a matrix where all elements equal 0 except for the ones that equal 1 in a diagonal line from the top left corner to the bottom right corner.\n",
    "> 'arange' creates an array where the elements are equal to the values in a given range. NumPy's arange is the same as Python's range(). Ex: np.arange(1, 10, 3).\n",
    "> 'reshaped' allows you to manipulate/move elements in an array with options and arguments to do so.\n",
    "\n",
    "### Selecting specific elements in an array\n",
    "\n",
    "> To select a specific element in a NumPy array, the query is array[row, column], in Python, it's array[column][row]."
   ]
  },
  {
   "cell_type": "code",
   "execution_count": 12,
   "metadata": {},
   "outputs": [
    {
     "data": {
      "text/plain": [
       "np.float64(5.0)"
      ]
     },
     "execution_count": 12,
     "metadata": {},
     "output_type": "execute_result"
    }
   ],
   "source": [
    "array2[1, 1]"
   ]
  },
  {
   "cell_type": "markdown",
   "metadata": {},
   "source": [
    "### Using scalar and arrays\n",
    "\n",
    "> You can compute math between scalar datatypes and NumPy arrays, when you do this, NumPy will perform the action on each individual element in the array. \n",
    "> This is referred to as 'Vectorization'."
   ]
  },
  {
   "cell_type": "code",
   "execution_count": 13,
   "metadata": {},
   "outputs": [
    {
     "data": {
      "text/plain": [
       "array([[ 3.,  6.,  9.],\n",
       "       [12., 15., 18.]])"
      ]
     },
     "execution_count": 13,
     "metadata": {},
     "output_type": "execute_result"
    }
   ],
   "source": [
    "array2 * 3"
   ]
  },
  {
   "cell_type": "code",
   "execution_count": 14,
   "metadata": {},
   "outputs": [
    {
     "data": {
      "text/plain": [
       "array([[  10.,  200., 3000.],\n",
       "       [  40.,  500., 6000.]])"
      ]
     },
     "execution_count": 14,
     "metadata": {},
     "output_type": "execute_result"
    }
   ],
   "source": [
    "array2 * array1"
   ]
  }
 ],
 "metadata": {
  "kernelspec": {
   "display_name": "Python 3",
   "language": "python",
   "name": "python3"
  },
  "language_info": {
   "codemirror_mode": {
    "name": "ipython",
    "version": 3
   },
   "file_extension": ".py",
   "mimetype": "text/x-python",
   "name": "python",
   "nbconvert_exporter": "python",
   "pygments_lexer": "ipython3",
   "version": "3.12.6"
  }
 },
 "nbformat": 4,
 "nbformat_minor": 2
}
