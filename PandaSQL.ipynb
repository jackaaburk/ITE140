{
 "cells": [
  {
   "cell_type": "code",
   "execution_count": 43,
   "metadata": {},
   "outputs": [],
   "source": [
    "import seaborn as sns\n",
    "import matplotlib.pyplot as plt\n",
    "from sklearn import datasets"
   ]
  },
  {
   "cell_type": "code",
   "execution_count": 45,
   "metadata": {},
   "outputs": [],
   "source": [
    "iris = datasets.load_iris()"
   ]
  },
  {
   "cell_type": "code",
   "execution_count": 46,
   "metadata": {},
   "outputs": [],
   "source": [
    "from pandasql import sqldf\n",
    "import pandas as pd"
   ]
  },
  {
   "cell_type": "code",
   "execution_count": 47,
   "metadata": {},
   "outputs": [
    {
     "data": {
      "text/html": [
       "<div>\n",
       "<style scoped>\n",
       "    .dataframe tbody tr th:only-of-type {\n",
       "        vertical-align: middle;\n",
       "    }\n",
       "\n",
       "    .dataframe tbody tr th {\n",
       "        vertical-align: top;\n",
       "    }\n",
       "\n",
       "    .dataframe thead th {\n",
       "        text-align: right;\n",
       "    }\n",
       "</style>\n",
       "<table border=\"1\" class=\"dataframe\">\n",
       "  <thead>\n",
       "    <tr style=\"text-align: right;\">\n",
       "      <th></th>\n",
       "      <th>sepal length (cm)</th>\n",
       "      <th>sepal width (cm)</th>\n",
       "      <th>petal length (cm)</th>\n",
       "      <th>petal width (cm)</th>\n",
       "    </tr>\n",
       "  </thead>\n",
       "  <tbody>\n",
       "    <tr>\n",
       "      <th>0</th>\n",
       "      <td>5.1</td>\n",
       "      <td>3.5</td>\n",
       "      <td>1.4</td>\n",
       "      <td>0.2</td>\n",
       "    </tr>\n",
       "    <tr>\n",
       "      <th>1</th>\n",
       "      <td>4.9</td>\n",
       "      <td>3.0</td>\n",
       "      <td>1.4</td>\n",
       "      <td>0.2</td>\n",
       "    </tr>\n",
       "    <tr>\n",
       "      <th>2</th>\n",
       "      <td>4.7</td>\n",
       "      <td>3.2</td>\n",
       "      <td>1.3</td>\n",
       "      <td>0.2</td>\n",
       "    </tr>\n",
       "    <tr>\n",
       "      <th>3</th>\n",
       "      <td>4.6</td>\n",
       "      <td>3.1</td>\n",
       "      <td>1.5</td>\n",
       "      <td>0.2</td>\n",
       "    </tr>\n",
       "    <tr>\n",
       "      <th>4</th>\n",
       "      <td>5.0</td>\n",
       "      <td>3.6</td>\n",
       "      <td>1.4</td>\n",
       "      <td>0.2</td>\n",
       "    </tr>\n",
       "  </tbody>\n",
       "</table>\n",
       "</div>"
      ],
      "text/plain": [
       "   sepal length (cm)  sepal width (cm)  petal length (cm)  petal width (cm)\n",
       "0                5.1               3.5                1.4               0.2\n",
       "1                4.9               3.0                1.4               0.2\n",
       "2                4.7               3.2                1.3               0.2\n",
       "3                4.6               3.1                1.5               0.2\n",
       "4                5.0               3.6                1.4               0.2"
      ]
     },
     "execution_count": 47,
     "metadata": {},
     "output_type": "execute_result"
    }
   ],
   "source": [
    "df = pd.DataFrame(iris.data, columns=iris.feature_names)\n",
    "df.head()"
   ]
  },
  {
   "cell_type": "code",
   "execution_count": 48,
   "metadata": {},
   "outputs": [],
   "source": [
    "iris = df.rename(columns={ \"sepal length (cm)\": \"sepal_len\", \"sepal width (cm)\": \"sepal_wid\", \"petal length (cm)\": \"petal_len\",\"petal width (cm)\": \"petal_wid\"})"
   ]
  },
  {
   "cell_type": "markdown",
   "metadata": {},
   "source": [
    "Can't do LIKE so I will start with AND:"
   ]
  },
  {
   "cell_type": "code",
   "execution_count": 50,
   "metadata": {},
   "outputs": [
    {
     "name": "stdout",
     "output_type": "stream",
     "text": [
      "    sepal_len  sepal_wid  petal_len  petal_wid\n",
      "0         4.4        2.9        1.4        0.2\n",
      "1         4.5        2.3        1.3        0.3\n",
      "2         5.5        2.3        4.0        1.3\n",
      "3         6.5        2.8        4.6        1.5\n",
      "4         5.7        2.8        4.5        1.3\n",
      "5         4.9        2.4        3.3        1.0\n",
      "6         6.6        2.9        4.6        1.3\n",
      "7         5.2        2.7        3.9        1.4\n",
      "8         5.0        2.0        3.5        1.0\n",
      "9         6.0        2.2        4.0        1.0\n",
      "10        6.1        2.9        4.7        1.4\n",
      "11        5.6        2.9        3.6        1.3\n",
      "12        5.8        2.7        4.1        1.0\n",
      "13        6.2        2.2        4.5        1.5\n",
      "14        5.6        2.5        3.9        1.1\n",
      "15        6.1        2.8        4.0        1.3\n",
      "16        6.3        2.5        4.9        1.5\n",
      "17        6.1        2.8        4.7        1.2\n",
      "18        6.4        2.9        4.3        1.3\n",
      "19        6.8        2.8        4.8        1.4\n",
      "20        6.0        2.9        4.5        1.5\n",
      "21        5.7        2.6        3.5        1.0\n",
      "22        5.5        2.4        3.8        1.1\n",
      "23        5.5        2.4        3.7        1.0\n",
      "24        5.8        2.7        3.9        1.2\n",
      "25        6.0        2.7        5.1        1.6\n",
      "26        6.3        2.3        4.4        1.3\n",
      "27        5.5        2.5        4.0        1.3\n",
      "28        5.5        2.6        4.4        1.2\n",
      "29        5.8        2.6        4.0        1.2\n",
      "30        5.0        2.3        3.3        1.0\n",
      "31        5.6        2.7        4.2        1.3\n",
      "32        5.7        2.9        4.2        1.3\n",
      "33        6.2        2.9        4.3        1.3\n",
      "34        5.1        2.5        3.0        1.1\n",
      "35        5.7        2.8        4.1        1.3\n",
      "36        5.8        2.7        5.1        1.9\n",
      "37        6.3        2.9        5.6        1.8\n",
      "38        4.9        2.5        4.5        1.7\n",
      "39        7.3        2.9        6.3        1.8\n",
      "40        6.7        2.5        5.8        1.8\n",
      "41        6.4        2.7        5.3        1.9\n",
      "42        5.7        2.5        5.0        2.0\n",
      "43        5.8        2.8        5.1        2.4\n",
      "44        7.7        2.6        6.9        2.3\n",
      "45        6.0        2.2        5.0        1.5\n",
      "46        5.6        2.8        4.9        2.0\n",
      "47        7.7        2.8        6.7        2.0\n",
      "48        6.3        2.7        4.9        1.8\n",
      "49        6.2        2.8        4.8        1.8\n",
      "50        6.4        2.8        5.6        2.1\n",
      "51        7.4        2.8        6.1        1.9\n",
      "52        6.4        2.8        5.6        2.2\n",
      "53        6.3        2.8        5.1        1.5\n",
      "54        6.1        2.6        5.6        1.4\n",
      "55        5.8        2.7        5.1        1.9\n",
      "56        6.3        2.5        5.0        1.9\n"
     ]
    }
   ],
   "source": [
    "print(sqldf('''\n",
    "SELECT *\n",
    "FROM iris\n",
    "WHERE sepal_wid < 3\n",
    "            AND petal_wid < 3\n",
    "'''))"
   ]
  },
  {
   "cell_type": "markdown",
   "metadata": {},
   "source": [
    "BETWEEN:"
   ]
  },
  {
   "cell_type": "code",
   "execution_count": 51,
   "metadata": {},
   "outputs": [
    {
     "name": "stdout",
     "output_type": "stream",
     "text": [
      "    sepal_len  sepal_wid  petal_len  petal_wid\n",
      "0         4.9        3.0        1.4        0.2\n",
      "1         4.4        2.9        1.4        0.2\n",
      "2         4.8        3.0        1.4        0.1\n",
      "3         4.3        3.0        1.1        0.1\n",
      "4         5.0        3.0        1.6        0.2\n",
      "..        ...        ...        ...        ...\n",
      "78        5.8        2.7        5.1        1.9\n",
      "79        6.7        3.0        5.2        2.3\n",
      "80        6.3        2.5        5.0        1.9\n",
      "81        6.5        3.0        5.2        2.0\n",
      "82        5.9        3.0        5.1        1.8\n",
      "\n",
      "[83 rows x 4 columns]\n"
     ]
    }
   ],
   "source": [
    "print(sqldf('''\n",
    "SELECT *\n",
    "FROM iris\n",
    "WHERE sepal_wid BETWEEN 1 AND 3\n",
    "'''))"
   ]
  },
  {
   "cell_type": "markdown",
   "metadata": {},
   "source": [
    "COUNT:"
   ]
  },
  {
   "cell_type": "code",
   "execution_count": null,
   "metadata": {},
   "outputs": [
    {
     "name": "stdout",
     "output_type": "stream",
     "text": [
      "   Num of small\n",
      "0            57\n"
     ]
    }
   ],
   "source": [
    "print(sqldf('''\n",
    "SELECT COUNT(sepal_len) AS \"Num of small flowers\"\n",
    "FROM iris\n",
    "WHERE sepal_wid < 3\n",
    "            AND petal_wid < 3\n",
    "'''))"
   ]
  },
  {
   "cell_type": "markdown",
   "metadata": {},
   "source": [
    "DISTINCT:"
   ]
  },
  {
   "cell_type": "code",
   "execution_count": 59,
   "metadata": {},
   "outputs": [
    {
     "name": "stdout",
     "output_type": "stream",
     "text": [
      "    sepal_len\n",
      "0         5.1\n",
      "1         4.9\n",
      "2         4.7\n",
      "3         4.6\n",
      "4         5.0\n",
      "5         5.4\n",
      "6         4.4\n",
      "7         4.8\n",
      "8         4.3\n",
      "9         5.8\n",
      "10        5.7\n",
      "11        5.2\n",
      "12        5.5\n",
      "13        4.5\n",
      "14        5.3\n",
      "15        7.0\n",
      "16        6.4\n",
      "17        6.9\n",
      "18        6.5\n",
      "19        6.3\n",
      "20        6.6\n",
      "21        5.9\n",
      "22        6.0\n",
      "23        6.1\n",
      "24        5.6\n",
      "25        6.7\n",
      "26        6.2\n",
      "27        6.8\n",
      "28        7.1\n",
      "29        7.6\n",
      "30        7.3\n",
      "31        7.2\n",
      "32        7.7\n",
      "33        7.4\n",
      "34        7.9\n"
     ]
    }
   ],
   "source": [
    "print(sqldf('''\n",
    "SELECT DISTINCT(sepal_len)\n",
    "FROM iris\n",
    "'''))"
   ]
  },
  {
   "cell_type": "markdown",
   "metadata": {},
   "source": []
  }
 ],
 "metadata": {
  "kernelspec": {
   "display_name": "Python 3",
   "language": "python",
   "name": "python3"
  },
  "language_info": {
   "codemirror_mode": {
    "name": "ipython",
    "version": 3
   },
   "file_extension": ".py",
   "mimetype": "text/x-python",
   "name": "python",
   "nbconvert_exporter": "python",
   "pygments_lexer": "ipython3",
   "version": "3.11.4"
  }
 },
 "nbformat": 4,
 "nbformat_minor": 2
}
